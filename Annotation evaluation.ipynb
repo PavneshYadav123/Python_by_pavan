{
 "cells": [
  {
   "cell_type": "code",
   "execution_count": 24,
   "metadata": {},
   "outputs": [],
   "source": [
    "import bs4"
   ]
  },
  {
   "cell_type": "markdown",
   "metadata": {},
   "source": [
    "### Goal Data Dictionary"
   ]
  },
  {
   "cell_type": "code",
   "execution_count": 25,
   "metadata": {},
   "outputs": [],
   "source": [
    "file = open('../Downloads/Bounding_Box/git_annotation_2020_01_23_09_43_20.dump', 'r')"
   ]
  },
  {
   "cell_type": "code",
   "execution_count": 26,
   "metadata": {},
   "outputs": [],
   "source": [
    "def create_goal_data(file):\n",
    "\n",
    "    goal_data_dict = {}\n",
    "\n",
    "    all_id, all_start, all_stop, soup = get_image_list(file)\n",
    "\n",
    "    for id_index in range(len(all_id)):\n",
    "\n",
    "        # From image\n",
    "        start = all_start[id_index]\n",
    "\n",
    "        # Upto image\n",
    "        stop = all_stop[id_index]\n",
    "\n",
    "        for img in range(start, stop+1):\n",
    "\n",
    "            # Image content\n",
    "            image = soup.find('image', id=img)\n",
    "\n",
    "            if image:\n",
    "\n",
    "                image_dict = image_evaluation(image)\n",
    "                goal_data_dict[img] = image_dict\n",
    "                \n",
    "    return goal_data_dict"
   ]
  },
  {
   "cell_type": "code",
   "execution_count": 27,
   "metadata": {},
   "outputs": [
    {
     "data": {
      "text/plain": [
       "{0: {'box1': {'label': 'Automobile',\n",
       "   'coordinates': [455.9, 496.3, 401.8, 401.8],\n",
       "   'attributes': ['Truncation Fully Visible', 'Occlusion Fully Visible']},\n",
       "  'box2': {'label': 'Automobile',\n",
       "   'coordinates': [430.2, 474.02, 400.3, 400.3],\n",
       "   'attributes': ['Truncation Fully Visible', 'Occlusion Fully Visible']},\n",
       "  'box3': {'label': 'Heavy Truck',\n",
       "   'coordinates': [424.4, 456.09, 407.1, 407.1],\n",
       "   'attributes': ['Truncation Fully Visible', 'Occlusion Bottom & Width']}},\n",
       " 1: {'box1': {'label': 'Automobile',\n",
       "   'coordinates': [886.89, 476.23, 694.45, 694.45],\n",
       "   'attributes': ['Truncation Right', 'Occlusion Width']}},\n",
       " 2: {'box1': {'label': 'Heavy Truck',\n",
       "   'coordinates': [1277.94, 585.9, 655.0, 655.0],\n",
       "   'attributes': ['Truncation Left', 'Occlusion Fully Visible']}},\n",
       " 3: {'box1': {'label': 'Person',\n",
       "   'coordinates': [993.0, 395.92, 957.2, 957.2],\n",
       "   'attributes': ['Truncation Right', 'Occlusion Width']},\n",
       "  'box2': {'label': 'Automobile',\n",
       "   'coordinates': [962.14, 598.23, 550.1, 550.1],\n",
       "   'attributes': ['Truncation Right', 'Occlusion Width']}},\n",
       " 4: {'box1': {'label': 'Road Signs',\n",
       "   'coordinates': [1893.62, 454.23, 1737.37, 1737.37],\n",
       "   'attributes': []},\n",
       "  'box2': {'label': 'Road Signs',\n",
       "   'coordinates': [1827.83, 653.66, 1743.53, 1743.53],\n",
       "   'attributes': []},\n",
       "  'box3': {'label': 'Road Signs',\n",
       "   'coordinates': [1206.92, 608.7, 1177.6, 1177.6],\n",
       "   'attributes': []}}}"
      ]
     },
     "execution_count": 27,
     "metadata": {},
     "output_type": "execute_result"
    }
   ],
   "source": [
    "goal_data_dict = create_goal_data(file)\n",
    "goal_data_dict"
   ]
  },
  {
   "cell_type": "code",
   "execution_count": 28,
   "metadata": {},
   "outputs": [],
   "source": [
    "def get_image_list(file):\n",
    "    \n",
    "    soup = bs4.BeautifulSoup(file)\n",
    "    \n",
    "    all_id = [idd.text for idd in soup.select('segments > segment > id')]\n",
    "    all_start = [int(start.text) for start in soup.select('segments > segment > start')]\n",
    "    all_stop = [int(stop.text) for stop in soup.select('segments > segment > stop')]\n",
    "    \n",
    "    return all_id, all_start, all_stop, soup"
   ]
  },
  {
   "cell_type": "code",
   "execution_count": 29,
   "metadata": {},
   "outputs": [],
   "source": [
    "def image_evaluation(image):\n",
    "    \n",
    "    image_dict = {}\n",
    "    box_count = 0\n",
    "    \n",
    "    for box in image.find_all('box'):\n",
    "        \n",
    "        box_dict = {}\n",
    "        \n",
    "        box_cord = []\n",
    "        \n",
    "        box_dict['label'] = box.get('label')\n",
    "        \n",
    "        box_cord.append(float(box.get('xbr'))) # x1\n",
    "        box_cord.append(float(box.get('ybr'))) # y1\n",
    "        box_cord.append(float(box.get('xtl'))) # x2\n",
    "        box_cord.append(float(box.get('xtl'))) # y2\n",
    "        \n",
    "        attribute_list = []\n",
    "        \n",
    "        for attribute in box.find_all('attribute'):\n",
    "            \n",
    "            attribute_list.append(attribute.get('name')+' '+attribute.text )\n",
    "            \n",
    "            \n",
    "        box_dict['coordinates'] = box_cord\n",
    "        box_dict['attributes'] = attribute_list\n",
    "        \n",
    "        box_count += 1\n",
    "        \n",
    "        image_dict['box'+str(box_count)] = box_dict\n",
    "        \n",
    "    return image_dict"
   ]
  },
  {
   "cell_type": "markdown",
   "metadata": {},
   "source": [
    "### Evaluation"
   ]
  },
  {
   "cell_type": "code",
   "execution_count": 30,
   "metadata": {},
   "outputs": [],
   "source": [
    "def evaluation_score(file, goal_data_dict):\n",
    "    \n",
    "    all_id, all_start, all_stop, soup = get_image_list(file)\n",
    "\n",
    "    score_dict = {}\n",
    "\n",
    "    for id_index in range(len(all_id)):\n",
    "\n",
    "        # From image\n",
    "        start = all_start[id_index]\n",
    "\n",
    "        # Upto image\n",
    "        stop = all_stop[id_index]\n",
    "\n",
    "        image_score_dict = {}\n",
    "\n",
    "        for img in range(start, stop+1):\n",
    "\n",
    "            # Image content\n",
    "            image = soup.find('image', id=img)\n",
    "\n",
    "            # Image score\n",
    "            image_score = 0.0\n",
    "            \n",
    "            # Box score\n",
    "            box_score = 0.0\n",
    "\n",
    "            # If image is annotated\n",
    "            if image:\n",
    "\n",
    "                image_dict = image_evaluation(image)\n",
    "\n",
    "\n",
    "                # IMAGE EVALUATION\n",
    "\n",
    "                # Get goal image\n",
    "                goal_image = goal_data_dict[img]\n",
    "\n",
    "                # Get attribute score for each box\n",
    "                for box in image_dict.keys():\n",
    "\n",
    "                    box1 = image_dict[box]['coordinates']\n",
    "                    box2 = goal_image[box]['coordinates']\n",
    "                    \n",
    "                    box_score += box_iou(box1, box2)\n",
    "                    \n",
    "                    \n",
    "                    \n",
    "                    # Label is correctly selected\n",
    "                    if image_dict[box]['label'] == goal_image[box]['label']:\n",
    "\n",
    "                        correct_attr = 0\n",
    "\n",
    "                        if image_dict[box]['attributes']:\n",
    "\n",
    "                            # Compare each attribute\n",
    "                            for attr_index in range(len(image_dict[box]['attributes'])):\n",
    "\n",
    "                                # Attribute correctly selected\n",
    "                                image_dict[box]['attributes'][attr_index] == goal_image[box]['attributes'][attr_index]\n",
    "\n",
    "                                correct_attr += 1\n",
    "\n",
    "                            # add correct attributes ratio\n",
    "                            image_score += correct_attr/len(goal_image[box]['attributes'])\n",
    "\n",
    "                        else:\n",
    "                            correct_attr += 1\n",
    "                            image_score += correct_attr\n",
    "\n",
    "                # round off image score upto 4 decimal places            \n",
    "                image_score = round(image_score / len(image_dict.keys()), 4)\n",
    "                \n",
    "                # round off image score upto 4 decimal places            \n",
    "                box_score = round(box_score / len(image_dict.keys()), 4)\n",
    "\n",
    "            else:\n",
    "\n",
    "                image_score = 0.0\n",
    "\n",
    "            image_score_dict[img] = [image_score, box_score]\n",
    "\n",
    "        score_dict[all_id[id_index]] = image_score_dict\n",
    "\n",
    "    return score_dict"
   ]
  },
  {
   "cell_type": "code",
   "execution_count": 31,
   "metadata": {},
   "outputs": [],
   "source": [
    "file1 = open('../Downloads/Bounding_Box/git_annotation_2020_01_23_09_43_20.dump', 'r')"
   ]
  },
  {
   "cell_type": "code",
   "execution_count": 32,
   "metadata": {},
   "outputs": [],
   "source": [
    "user_dict = evaluation_score(file1, goal_data_dict)"
   ]
  },
  {
   "cell_type": "code",
   "execution_count": 33,
   "metadata": {},
   "outputs": [],
   "source": [
    "def box_iou(box1, box2):\n",
    "    \n",
    "    #Get the coordinates of bounding boxes\n",
    "    b1_x2, b1_y2, b1_x1, b1_y1 = box1[0], box1[1], box1[2], box1[3]\n",
    "    b2_x2, b2_y2, b2_x1, b2_y1 = box2[0], box2[1], box2[2], box2[3]\n",
    "    \n",
    "    I_x1 = max(b1_x1, b2_x1)\n",
    "    I_y1 = max(b1_y1, b2_y1)\n",
    "    I_x2 = min(b1_x2, b2_x2)\n",
    "    I_y2 = min(b1_y2, b2_y2)\n",
    "    \n",
    "    #print(I_x1, I_y1, I_x2, I_y2)\n",
    "    \n",
    "    I_width = abs(I_x1 - I_x2)\n",
    "    I_length = abs(I_y1 - I_y2)\n",
    "    #print(I_width, I_length)\n",
    "    \n",
    "    # Intersection area\n",
    "    I_area = I_length * I_width\n",
    "    \n",
    "    # Box1 area : width * length\n",
    "    b1_area = abs(b1_x2 - b1_x1) * abs(b1_y2 - b1_y1)\n",
    "    # Box2 area : width * length\n",
    "    b2_area = abs(b2_x2 - b2_x1) * abs(b2_y2 - b2_y1)\n",
    "    \n",
    "    # Union area\n",
    "    U_area = b1_area + b2_area - I_area\n",
    "    \n",
    "    #print(I_area, U_area)\n",
    "    \n",
    "    IoU = I_area / (U_area + 1)\n",
    "    \n",
    "    return round(IoU, 4)"
   ]
  },
  {
   "cell_type": "code",
   "execution_count": 34,
   "metadata": {},
   "outputs": [
    {
     "ename": "NameError",
     "evalue": "name 'box1' is not defined",
     "output_type": "error",
     "traceback": [
      "\u001b[0;31m---------------------------------------------------------------------------\u001b[0m",
      "\u001b[0;31mNameError\u001b[0m                                 Traceback (most recent call last)",
      "\u001b[0;32m<ipython-input-34-7020804cc638>\u001b[0m in \u001b[0;36m<module>\u001b[0;34m\u001b[0m\n\u001b[0;32m----> 1\u001b[0;31m \u001b[0mbox_iou\u001b[0m\u001b[0;34m(\u001b[0m\u001b[0mbox1\u001b[0m\u001b[0;34m,\u001b[0m \u001b[0mbox2\u001b[0m\u001b[0;34m)\u001b[0m\u001b[0;34m\u001b[0m\u001b[0;34m\u001b[0m\u001b[0m\n\u001b[0m",
      "\u001b[0;31mNameError\u001b[0m: name 'box1' is not defined"
     ]
    }
   ],
   "source": [
    "box_iou(box1, box2)"
   ]
  },
  {
   "cell_type": "code",
   "execution_count": 36,
   "metadata": {},
   "outputs": [
    {
     "data": {
      "text/plain": [
       "0.0"
      ]
     },
     "execution_count": 36,
     "metadata": {},
     "output_type": "execute_result"
    }
   ],
   "source": [
    "user_dict['284'][12][1]"
   ]
  },
  {
   "cell_type": "code",
   "execution_count": null,
   "metadata": {},
   "outputs": [],
   "source": []
  },
  {
   "cell_type": "code",
   "execution_count": null,
   "metadata": {},
   "outputs": [],
   "source": []
  }
 ],
 "metadata": {
  "kernelspec": {
   "display_name": "Python 3",
   "language": "python",
   "name": "python3"
  },
  "language_info": {
   "codemirror_mode": {
    "name": "ipython",
    "version": 3
   },
   "file_extension": ".py",
   "mimetype": "text/x-python",
   "name": "python",
   "nbconvert_exporter": "python",
   "pygments_lexer": "ipython3",
   "version": "3.7.4"
  }
 },
 "nbformat": 4,
 "nbformat_minor": 2
}
